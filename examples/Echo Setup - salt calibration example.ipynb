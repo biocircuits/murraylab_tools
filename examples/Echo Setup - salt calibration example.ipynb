{
 "cells": [
  {
   "cell_type": "code",
   "execution_count": 1,
   "metadata": {
    "collapsed": true
   },
   "outputs": [],
   "source": [
    "import murraylab_tools.echo as mt_echo\n",
    "import os.path"
   ]
  },
  {
   "cell_type": "markdown",
   "metadata": {},
   "source": [
    "Define where things go."
   ]
  },
  {
   "cell_type": "code",
   "execution_count": 2,
   "metadata": {
    "collapsed": true
   },
   "outputs": [],
   "source": [
    "salt_calibration_folder = \"salt_calibration\"\n",
    "plate_file = os.path.join(salt_calibration_folder, \"salt_calibration_plate.dat\")\n",
    "output_name = os.path.join(salt_calibration_folder, \"salt_calibration_experiment\")"
   ]
  },
  {
   "cell_type": "markdown",
   "metadata": {},
   "source": [
    "Declare source plate and run objects:"
   ]
  },
  {
   "cell_type": "code",
   "execution_count": 5,
   "metadata": {
    "collapsed": false
   },
   "outputs": [],
   "source": [
    "# Build an EchoRun object\n",
    "txtl_plate = mt_echo.SourcePlate(filename = plate_file)\n",
    "txtl_echo_calculator = mt_echo.EchoRun(plate = txtl_plate)"
   ]
  },
  {
   "cell_type": "markdown",
   "metadata": {},
   "source": [
    "Define input materials. Here, we're adding a dilution series of Mg+ and K+ salts. The master mix is going to be a buffer-minus-salts plus extract, which is *not* the standard master mix."
   ]
  },
  {
   "cell_type": "code",
   "execution_count": 7,
   "metadata": {
    "collapsed": true
   },
   "outputs": [],
   "source": [
    "mg_conc = 100 # stock concentration\n",
    "k_conc = 3000 # stock concentration\n",
    "\n",
    "# Final concentrations\n",
    "mg_concs = [3, 5, 7, 9, 11]\n",
    "k_conc = [60, 80, 100, 120, 140]\n",
    "\n",
    "# Define master mix:\n",
    "txtl            = mt_echo.EchoSourceMaterial(\"TX-TL extract\", 1, 0, None) # x\n",
    "PEG             = mt_echo.EchoSourceMaterial(\"PEG-8000\", 1, 0, None) # x\n",
    "energy_solution = mt_echo.EchoSourceMaterial(\"Energy Solution\", 1, 0, None) # x\n",
    "amino_acids     = mt_echo.EchoSourceMaterial(\"Amino Acids\", 6, 0, None) # mM\n",
    "water           = mt_echo.EchoSourceMaterial(\"Water\", 1, 0, None) # x\n",
    "gfp_plasmid     = mt_echo.EchoSourceMaterial(\"pBEST-GFP\", 9, 0, None) # nM\n",
    "\n",
    "master_mix = mt_echo.Mixture()\n",
    "master_mix.add_material(txtl, 0.33, \"percent\")"
   ]
  },
  {
   "cell_type": "code",
   "execution_count": 11,
   "metadata": {
    "collapsed": false
   },
   "outputs": [
    {
     "ename": "TypeError",
     "evalue": "not all arguments converted during string formatting",
     "output_type": "error",
     "traceback": [
      "\u001b[0;31m---------------------------------------------------------------------------\u001b[0m",
      "\u001b[0;31mTypeError\u001b[0m                                 Traceback (most recent call last)",
      "\u001b[0;32m<ipython-input-11-131a977e0e5c>\u001b[0m in \u001b[0;36m<module>\u001b[0;34m()\u001b[0m\n\u001b[1;32m      1\u001b[0m \u001b[0mmaster_mix\u001b[0m\u001b[0;34m.\u001b[0m\u001b[0mvol\u001b[0m \u001b[0;34m=\u001b[0m \u001b[0;36m10000\u001b[0m\u001b[0;34m\u001b[0m\u001b[0;34m\u001b[0m\u001b[0m\n\u001b[0;32m----> 2\u001b[0;31m \u001b[0mmaster_mix\u001b[0m\u001b[0;34m.\u001b[0m\u001b[0mtext_recipe\u001b[0m\u001b[0;34m(\u001b[0m\u001b[0;34m)\u001b[0m\u001b[0;34m\u001b[0m\u001b[0;34m\u001b[0m\u001b[0m\n\u001b[0m",
      "\u001b[0;32m/Users/sclamons/Downloads/murraylab_tools_local/murraylab_tools/echo/echo_functions.py\u001b[0m in \u001b[0;36mtext_recipe\u001b[0;34m(self)\u001b[0m\n\u001b[1;32m   1148\u001b[0m         \u001b[0;32mfor\u001b[0m \u001b[0mmaterial\u001b[0m\u001b[0;34m,\u001b[0m \u001b[0mfinal_conc\u001b[0m \u001b[0;32min\u001b[0m \u001b[0mself\u001b[0m\u001b[0;34m.\u001b[0m\u001b[0mmaterials\u001b[0m\u001b[0;34m:\u001b[0m\u001b[0;34m\u001b[0m\u001b[0;34m\u001b[0m\u001b[0m\n\u001b[1;32m   1149\u001b[0m             \u001b[0mret_str\u001b[0m \u001b[0;34m+=\u001b[0m \u001b[0;34m\"\\n\\t\\t0.2f uL %s\"\u001b[0m \u001b[0;34m%\u001b[0m\u001b[0;31m \u001b[0m\u001b[0;31m\\\u001b[0m\u001b[0;34m\u001b[0m\u001b[0;34m\u001b[0m\u001b[0m\n\u001b[0;32m-> 1150\u001b[0;31m                             \u001b[0;34m(\u001b[0m\u001b[0mself\u001b[0m\u001b[0;34m.\u001b[0m\u001b[0mvol\u001b[0m \u001b[0;34m*\u001b[0m \u001b[0mfinal_conc\u001b[0m \u001b[0;34m/\u001b[0m \u001b[0mmaterial\u001b[0m\u001b[0;34m.\u001b[0m\u001b[0mnM\u001b[0m\u001b[0;34m,\u001b[0m \u001b[0mmaterial\u001b[0m\u001b[0;34m.\u001b[0m\u001b[0mname\u001b[0m\u001b[0;34m)\u001b[0m\u001b[0;34m\u001b[0m\u001b[0;34m\u001b[0m\u001b[0m\n\u001b[0m\u001b[1;32m   1151\u001b[0m \u001b[0;34m\u001b[0m\u001b[0m\n\u001b[1;32m   1152\u001b[0m \u001b[0;32mclass\u001b[0m \u001b[0mWellReaction\u001b[0m\u001b[0;34m(\u001b[0m\u001b[0mAbstractMixture\u001b[0m\u001b[0;34m)\u001b[0m\u001b[0;34m:\u001b[0m\u001b[0;34m\u001b[0m\u001b[0;34m\u001b[0m\u001b[0m\n",
      "\u001b[0;31mTypeError\u001b[0m: not all arguments converted during string formatting"
     ]
    }
   ],
   "source": [
    "master_mix.vol = 10000\n",
    "master_mix.text_recipe()"
   ]
  },
  {
   "cell_type": "code",
   "execution_count": null,
   "metadata": {
    "collapsed": true
   },
   "outputs": [],
   "source": []
  }
 ],
 "metadata": {
  "kernelspec": {
   "display_name": "Python 3",
   "language": "python",
   "name": "python3"
  },
  "language_info": {
   "codemirror_mode": {
    "name": "ipython",
    "version": 3
   },
   "file_extension": ".py",
   "mimetype": "text/x-python",
   "name": "python",
   "nbconvert_exporter": "python",
   "pygments_lexer": "ipython3",
   "version": "3.6.8"
  }
 },
 "nbformat": 4,
 "nbformat_minor": 2
}

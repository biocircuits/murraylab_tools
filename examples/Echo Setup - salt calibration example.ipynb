{
 "cells": [
  {
   "cell_type": "code",
   "execution_count": 1,
   "metadata": {
    "collapsed": false
   },
   "outputs": [],
   "source": [
    "import murraylab_tools.echo as mt_echo\n",
    "import os.path"
   ]
  },
  {
   "cell_type": "markdown",
   "metadata": {},
   "source": [
    "# Echo Setup - Salt Calibration Example"
   ]
  },
  {
   "cell_type": "markdown",
   "metadata": {},
   "source": [
    "This notebook shows an example of how to programmatically create a picklist for an experiment using the murraylab_tools's Echo subpackage. The experiment in question is a TX-TL buffer calibration experiment. Whenever we make a fresh batch of TX-TL, we make a new buffer solution with custom MgCl and KCl concentrations optimized for maximum production from a GFP plasmid. To find those concentrations, we'll have to run TX-TL reactions with a range of MgCl and KCl concentrations. "
   ]
  },
  {
   "cell_type": "markdown",
   "metadata": {},
   "source": [
    "First, we choose where to put our files (in this case, in a \"salt calibration\" folder)."
   ]
  },
  {
   "cell_type": "code",
   "execution_count": 2,
   "metadata": {
    "collapsed": false
   },
   "outputs": [],
   "source": [
    "salt_calibration_folder = \"salt_calibration\"\n",
    "plate_file = os.path.join(salt_calibration_folder, \"salt_calibration_plate.dat\")\n",
    "output_name = os.path.join(salt_calibration_folder, \"salt_calibration_experiment\")"
   ]
  },
  {
   "cell_type": "markdown",
   "metadata": {},
   "source": [
    "Next, we define input materials. Even though this is a TX-TL experiment, we can't use a standard `TXTLMasterMix` class to define a master mix, because there's no buffer solution for this extract yet -- we'll need to add each buffer component to the master mix, leaving out only MgCl and KCl salts. We'll use a `MixtureMaterial` object to represent this master mix."
   ]
  },
  {
   "cell_type": "code",
   "execution_count": 3,
   "metadata": {
    "collapsed": false
   },
   "outputs": [
    {
     "name": "stdout",
     "output_type": "stream",
     "text": [
      "Master mix contains:\n",
      "\tTX-TL extract (1.000 x) at concentration 0.33, dimensionality = final_concentration\n",
      "\tPEG-8000 (1.000 x) at concentration 0.1, dimensionality = final_concentration\n",
      "\tEnergy Solution (1.000 x) at concentration 0.2, dimensionality = final_concentration\n",
      "\tAmino Acids (6.000 mM) at concentration 1, dimensionality = final_concentration\n",
      "\tpBEST-GFP (9.000 nM) at concentration 1, dimensionality = final_concentration\n",
      "fill material: None\n"
     ]
    }
   ],
   "source": [
    "# Define master mix:\n",
    "txtl            = mt_echo.EchoSourceMaterial(\"TX-TL extract\", 1, units = \"x\") # x\n",
    "PEG             = mt_echo.EchoSourceMaterial(\"PEG-8000\", 1, units = \"x\") # x\n",
    "energy_solution = mt_echo.EchoSourceMaterial(\"Energy Solution\", 1, units = \"x\") # x\n",
    "amino_acids     = mt_echo.EchoSourceMaterial(\"Amino Acids\", 6, units = \"mM\") # mM\n",
    "water           = mt_echo.EchoSourceMaterial(\"Water\", 1, units = \"x\") # x\n",
    "gfp_plasmid     = mt_echo.EchoSourceMaterial(\"pBEST-GFP\", 9, units = \"nM\") # nM\n",
    "\n",
    "master_mix = mt_echo.MixtureMaterial(name = \"Master Mix\")\n",
    "\n",
    "master_mix.add_material(txtl, 0.33)\n",
    "master_mix.add_material(PEG, .1)\n",
    "master_mix.add_material(energy_solution, .2)\n",
    "master_mix.add_material(amino_acids, 1)\n",
    "master_mix.add_material(gfp_plasmid, 1)\n",
    "\n",
    "print(\"Master mix contains:\")\n",
    "for material, concentration, dimensionality in master_mix.materials:\n",
    "    print(f\"\\t{material} at concentration {concentration}, dimensionality = {dimensionality}\")\n",
    "print(\"fill material: \" + str(master_mix.fill_material))\n",
    "# print(master_mix.text_recipe())"
   ]
  },
  {
   "cell_type": "markdown",
   "metadata": {},
   "source": [
    "We'll also need to add salts."
   ]
  },
  {
   "cell_type": "code",
   "execution_count": 6,
   "metadata": {
    "collapsed": false
   },
   "outputs": [],
   "source": [
    "# Final concentrations\n",
    "mg_concs = [3, 5, 7, 9, 11]\n",
    "k_concs = [60, 80, 100, 120, 140]\n",
    "\n",
    "# Salt materials\n",
    "mg_salt = mt_echo.EchoSourceMaterial(\"Mg\", 200, units = \"mM\")\n",
    "k_salt = mt_echo.EchoSourceMaterial(\"K\", 6000, units = \"mM\")"
   ]
  },
  {
   "cell_type": "markdown",
   "metadata": {},
   "source": [
    "Finally, we create an `EchoRun` object, and add our materials. Each well should contain:\n",
    "* Master mix, including buffer components.\n",
    "* MgCl at some concentration.\n",
    "* KCl at some concentration.\n",
    "* Water to fill to 10 uL. "
   ]
  },
  {
   "cell_type": "code",
   "execution_count": 7,
   "metadata": {
    "collapsed": false,
    "scrolled": false
   },
   "outputs": [],
   "source": [
    "# Build an EchoRun object\n",
    "txtl_plate = mt_echo.SourcePlate(filename = plate_file)\n",
    "txtl_echo_calculator = mt_echo.EchoRun(plate = txtl_plate)\n",
    "\n",
    "txtl_echo_calculator.dilution_series(mg_salt, k_salt, mg_concs, k_concs, \"A1\")\n",
    "txtl_echo_calculator.add_material_to_all(master_mix) # If you try to fill this, it breaks\n",
    "txtl_echo_calculator.fill_all_wells_with(water)\n",
    "\n",
    "txtl_echo_calculator.write_picklist(output_name)"
   ]
  },
  {
   "cell_type": "markdown",
   "metadata": {},
   "source": [
    "This will produce a picklist in \"salt_calibration/salt_calibration_experiment_EchoInput\" and a human-readable instruction file in \"salt_calibration/salt_calibration_experiment_experiment_overview.txt\". Here are the human-readable instructions:"
   ]
  },
  {
   "cell_type": "code",
   "execution_count": 10,
   "metadata": {
    "collapsed": false
   },
   "outputs": [
    {
     "name": "stdout",
     "output_type": "stream",
     "text": [
      "Materials used:\n",
      "\n",
      "Mg:\n",
      "\tstock concentration: 200.00 mM\n",
      "\ttotal volume: 29.75 uL\n",
      "K:\n",
      "\tstock concentration: 6000.00 mM\n",
      "\ttotal volume: 25.12 uL\n",
      "Master Mix:\n",
      "\tStock Concentration: 1 \n",
      "\tTotal Volume: 810750.00\n",
      "\t\t294.73 uL TX-TL extract (1.000 x)\n",
      "\t\t89.31 uL PEG-8000 (1.000 x)\n",
      "\t\t178.62 uL Energy Solution (1.000 x)\n",
      "\t\t148.85 uL Amino Acids (6.000 mM)\n",
      "\t\t99.24 uL pBEST-GFP (9.000 nM)\n",
      "Water:\n",
      "\tstock concentration: 1.00 x\n",
      "\ttotal volume: 62.50 uL\n",
      "\n",
      "On the source plate:\n",
      "\tAdd 29.75 uL of Mg in well: D22\n",
      "\tAdd 25.125 uL of K in well: D24\n",
      "\tAdd 65.0 uL of Master Mix in wells: F01, F02, F03, F04, F05, F06, F07, F08, F09, F10\n",
      "\tAdd 34.75 uL of Master Mix in well: F11\n",
      "\tAdd 41.5 uL of Water in well: F13"
     ]
    }
   ],
   "source": [
    "salt_filename = os.path.join(\"salt_calibration\", \"salt_calibration_experiment_experiment_overview.txt\")\n",
    "with open(salt_filename,'r') as salt_file:\n",
    "    for line in salt_file:\n",
    "        print(line, end = \"\")"
   ]
  },
  {
   "cell_type": "code",
   "execution_count": null,
   "metadata": {
    "collapsed": true
   },
   "outputs": [],
   "source": []
  }
 ],
 "metadata": {
  "kernelspec": {
   "display_name": "Python 3",
   "language": "python",
   "name": "python3"
  },
  "language_info": {
   "codemirror_mode": {
    "name": "ipython",
    "version": 3
   },
   "file_extension": ".py",
   "mimetype": "text/x-python",
   "name": "python",
   "nbconvert_exporter": "python",
   "pygments_lexer": "ipython3",
   "version": "3.6.8"
  }
 },
 "nbformat": 4,
 "nbformat_minor": 2
}

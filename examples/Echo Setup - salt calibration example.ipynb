{
 "cells": [
  {
   "cell_type": "code",
   "execution_count": 1,
   "metadata": {
    "collapsed": true
   },
   "outputs": [],
   "source": [
    "import murraylab_tools.echo as mt_echo\n",
    "import os.path"
   ]
  },
  {
   "cell_type": "markdown",
   "metadata": {},
   "source": [
    "Define where things go."
   ]
  },
  {
   "cell_type": "code",
   "execution_count": 2,
   "metadata": {
    "collapsed": true
   },
   "outputs": [],
   "source": [
    "salt_calibration_folder = \"salt_calibration\"\n",
    "plate_file = os.path.join(salt_calibration_folder, \"salt_calibration_plate.dat\")\n",
    "output_name = os.path.join(salt_calibration_folder, \"salt_calibration_experiment\")"
   ]
  },
  {
   "cell_type": "markdown",
   "metadata": {},
   "source": [
    "Declare source plate and run objects:"
   ]
  },
  {
   "cell_type": "code",
   "execution_count": 3,
   "metadata": {
    "collapsed": false
   },
   "outputs": [],
   "source": [
    "# Build an EchoRun object\n",
    "txtl_plate = mt_echo.SourcePlate(filename = plate_file)\n",
    "txtl_echo_calculator = mt_echo.EchoRun(plate = txtl_plate)"
   ]
  },
  {
   "cell_type": "markdown",
   "metadata": {},
   "source": [
    "Define input materials. Here, we're adding a dilution series of Mg+ and K+ salts. The master mix is going to be a buffer-minus-salts plus extract, which is *not* the standard master mix."
   ]
  },
  {
   "cell_type": "code",
   "execution_count": 12,
   "metadata": {
    "collapsed": false
   },
   "outputs": [],
   "source": [
    "mg_conc = 100 # stock concentration\n",
    "k_conc = 3000 # stock concentration\n",
    "\n",
    "# Final concentrations\n",
    "mg_concs = [3, 5, 7, 9, 11]\n",
    "k_conc = [60, 80, 100, 120, 140]\n",
    "\n",
    "# Define master mix:\n",
    "txtl            = mt_echo.EchoSourceMaterial(\"TX-TL extract\", 1, 0, None) # x\n",
    "PEG             = mt_echo.EchoSourceMaterial(\"PEG-8000\", 1, 0, None) # x\n",
    "energy_solution = mt_echo.EchoSourceMaterial(\"Energy Solution\", 1, 0, None) # x\n",
    "amino_acids     = mt_echo.EchoSourceMaterial(\"Amino Acids\", 6, 0, None) # mM\n",
    "water           = mt_echo.EchoSourceMaterial(\"Water\", 1, 0, None) # x\n",
    "gfp_plasmid     = mt_echo.EchoSourceMaterial(\"pBEST-GFP\", 9, 0, None) # nM\n",
    "\n",
    "master_mix = mt_echo.Mixture(name = \"Master Mix\")\n",
    "master_mix.add_material(txtl, 0.33)\n",
    "master_mix.fill_with(water)"
   ]
  },
  {
   "cell_type": "code",
   "execution_count": 13,
   "metadata": {
    "collapsed": false
   },
   "outputs": [
    {
     "name": "stdout",
     "output_type": "stream",
     "text": [
      "\n",
      "\tMix:\n",
      "\t\t66000.00 uL TX-TL extract\n"
     ]
    }
   ],
   "source": [
    "master_mix.vol = 200000\n",
    "print(master_mix.text_recipe())"
   ]
  },
  {
   "cell_type": "markdown",
   "metadata": {},
   "source": [
    "PROBLEMS:\n",
    "* Fill-with doesn't work at all\n",
    "* Different add-units don't work (only concentration?) "
   ]
  },
  {
   "cell_type": "code",
   "execution_count": null,
   "metadata": {
    "collapsed": true
   },
   "outputs": [],
   "source": []
  }
 ],
 "metadata": {
  "kernelspec": {
   "display_name": "Python 3",
   "language": "python",
   "name": "python3"
  },
  "language_info": {
   "codemirror_mode": {
    "name": "ipython",
    "version": 3
   },
   "file_extension": ".py",
   "mimetype": "text/x-python",
   "name": "python",
   "nbconvert_exporter": "python",
   "pygments_lexer": "ipython3",
   "version": "3.6.8"
  }
 },
 "nbformat": 4,
 "nbformat_minor": 2
}

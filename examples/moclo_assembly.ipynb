{
 "cells": [
  {
   "cell_type": "code",
   "execution_count": 1,
   "metadata": {},
   "outputs": [],
   "source": [
    "#Run this first!\n",
    "import os\n",
    "import sys\n",
    "dev = True\n",
    "#\"C:\\\\\",\"Users\",\"Andrey\",\\\n",
    "#                \"Documents\",\"GitHub\",\"murraylab_tools\"\n",
    "if(dev):\n",
    "    devpath = os.path.join(\"..\",\\\n",
    "                    \"murraylab_tools\",\"make_moclo_assembly\")\n",
    "    sys.path.append(devpath)\n",
    "    import make_moclo_assembly as mamo\n",
    "else:\n",
    "    import murraylab_tools.make_moclo_assembly as mamo\n",
    "mypath = os.path.join(\"moclo_assembly\")"
   ]
  },
  {
   "cell_type": "code",
   "execution_count": 2,
   "metadata": {
    "scrolled": true
   },
   "outputs": [
    {
     "data": {
      "application/vnd.jupyter.widget-view+json": {
       "model_id": "db5330656c1040769bf24dbdfa03e033",
       "version_major": 2,
       "version_minor": 0
      },
      "text/plain": [
       "HBox(children=(VBox(children=(Text(value='untitled', description='Assembly File Name:', layout=Layout(height='…"
      ]
     },
     "metadata": {},
     "output_type": "display_data"
    }
   ],
   "source": [
    "#This cell is for creating your assembly!\n",
    "#here you can put together the parts located in your source plate.\n",
    "#interface elements:\n",
    "#Assembly...[]: the name of all the assemblies you're doing!\n",
    "#parts list[]: the name of the parts list to use! This picks from which lists\n",
    "#             exist in the \"partslist\" folder on the server.\n",
    "#[Start]: this begins the assembly, locking in the parts list file we're using\n",
    "#[]list all parts: if checked, all parts will be shown in all columns, as long\n",
    "#                 as the assembly is valid!\n",
    "#Dest Well[]: this indicates the first well in the destination plate to use.\n",
    "#            subsequent assemblies are filled in left to right, top to bottom.\n",
    "#[Save!]: this saves the assembly, and creates a csv file on the server which\n",
    "#         can be used for making echo picklists\n",
    "#\n",
    "#\n",
    "#[vector1]...[vector2]: these drop downs will list compatible parts from the\n",
    "#                       parts list\n",
    "#[enzyme]: this tells the picklist generation script how to assemble the parts\n",
    "#         to make assembled sequences. Also it tells the UI whether UNS parts\n",
    "#         should assemble together.\n",
    "#[name]: a unique name! This is mostly for you, but make sure each assembly has\n",
    "#       one!\n",
    "#[+]: this copies the row and adds it to the bottom.\n",
    "#[-]: one press clears all the parts, another press deletes the row entirely\n",
    "mamo.make_assembly_file(mypath)"
   ]
  },
  {
   "cell_type": "code",
   "execution_count": 3,
   "metadata": {
    "scrolled": true
   },
   "outputs": [
    {
     "data": {
      "application/vnd.jupyter.widget-view+json": {
       "model_id": "b49f36b472944faaa4ebadffa8cfe0e6",
       "version_major": 2,
       "version_minor": 0
      },
      "text/plain": [
       "HBox(children=(Dropdown(description='Assembly:', options={'180503_newscaff_grnassy': 'moclo_assembly\\\\assembli…"
      ]
     },
     "metadata": {},
     "output_type": "display_data"
    },
    {
     "data": {
      "application/vnd.jupyter.widget-view+json": {
       "model_id": "ae20e9037ff94cef9bc3f99a3c61cc8e",
       "version_major": 2,
       "version_minor": 0
      },
      "text/plain": [
       "FloatProgress(value=0.0, max=1.0)"
      ]
     },
     "metadata": {},
     "output_type": "display_data"
    },
    {
     "data": {
      "text/html": [
       "<div>\n",
       "<style scoped>\n",
       "    .dataframe tbody tr th:only-of-type {\n",
       "        vertical-align: middle;\n",
       "    }\n",
       "\n",
       "    .dataframe tbody tr th {\n",
       "        vertical-align: top;\n",
       "    }\n",
       "\n",
       "    .dataframe thead th {\n",
       "        text-align: right;\n",
       "    }\n",
       "</style>\n",
       "<table border=\"1\" class=\"dataframe\">\n",
       "  <thead>\n",
       "    <tr style=\"text-align: right;\">\n",
       "      <th></th>\n",
       "      <th>well</th>\n",
       "      <th>part</th>\n",
       "      <th>circular</th>\n",
       "      <th>length</th>\n",
       "    </tr>\n",
       "  </thead>\n",
       "  <tbody>\n",
       "    <tr>\n",
       "      <th>0</th>\n",
       "      <td>C1</td>\n",
       "      <td>rec25</td>\n",
       "      <td>True</td>\n",
       "      <td>11835</td>\n",
       "    </tr>\n",
       "    <tr>\n",
       "      <th>1</th>\n",
       "      <td>C2</td>\n",
       "      <td>rec26</td>\n",
       "      <td>True</td>\n",
       "      <td>11835</td>\n",
       "    </tr>\n",
       "    <tr>\n",
       "      <th>2</th>\n",
       "      <td>C3</td>\n",
       "      <td>rec27</td>\n",
       "      <td>True</td>\n",
       "      <td>11764</td>\n",
       "    </tr>\n",
       "    <tr>\n",
       "      <th>3</th>\n",
       "      <td>C4</td>\n",
       "      <td>rec28</td>\n",
       "      <td>True</td>\n",
       "      <td>11764</td>\n",
       "    </tr>\n",
       "    <tr>\n",
       "      <th>4</th>\n",
       "      <td>C5</td>\n",
       "      <td>rec29</td>\n",
       "      <td>True</td>\n",
       "      <td>11767</td>\n",
       "    </tr>\n",
       "    <tr>\n",
       "      <th>5</th>\n",
       "      <td>C6</td>\n",
       "      <td>rec30</td>\n",
       "      <td>True</td>\n",
       "      <td>11767</td>\n",
       "    </tr>\n",
       "    <tr>\n",
       "      <th>6</th>\n",
       "      <td>C7</td>\n",
       "      <td>rec31</td>\n",
       "      <td>True</td>\n",
       "      <td>11764</td>\n",
       "    </tr>\n",
       "    <tr>\n",
       "      <th>7</th>\n",
       "      <td>C8</td>\n",
       "      <td>rec32</td>\n",
       "      <td>True</td>\n",
       "      <td>11764</td>\n",
       "    </tr>\n",
       "  </tbody>\n",
       "</table>\n",
       "</div>"
      ],
      "text/plain": [
       "  well   part  circular  length\n",
       "0   C1  rec25      True   11835\n",
       "1   C2  rec26      True   11835\n",
       "2   C3  rec27      True   11764\n",
       "3   C4  rec28      True   11764\n",
       "4   C5  rec29      True   11767\n",
       "5   C6  rec30      True   11767\n",
       "6   C7  rec31      True   11764\n",
       "7   C8  rec32      True   11764"
      ]
     },
     "metadata": {},
     "output_type": "display_data"
    },
    {
     "data": {
      "text/html": [
       "<a href='moclo_assembly\\DNA\\180723_context\\180723_context.csv' target='_blank'>moclo_assembly\\DNA\\180723_context\\180723_context.csv</a><br>"
      ],
      "text/plain": [
       "C:\\Users\\Andrey\\Documents\\GitHub\\murraylab_tools\\examples\\moclo_assembly\\DNA\\180723_context\\180723_context.csv"
      ]
     },
     "metadata": {},
     "output_type": "display_data"
    },
    {
     "data": {
      "text/html": [
       "<a href='moclo_assembly\\output\\outputLDV.csv' target='_blank'>moclo_assembly\\output\\outputLDV.csv</a><br>"
      ],
      "text/plain": [
       "C:\\Users\\Andrey\\Documents\\GitHub\\murraylab_tools\\examples\\moclo_assembly\\output\\outputLDV.csv"
      ]
     },
     "metadata": {},
     "output_type": "display_data"
    }
   ],
   "source": [
    "#run this cell to make an echo picklist!\n",
    "#you'll get a chance to pick which set of assemblies you want to do, and of\n",
    "#course the parts list to use.\n",
    "mamo.process_assembly_file(mypath,printstuff=False)"
   ]
  },
  {
   "cell_type": "code",
   "execution_count": null,
   "metadata": {},
   "outputs": [],
   "source": []
  }
 ],
 "metadata": {
  "kernelspec": {
   "display_name": "Python 3",
   "language": "python",
   "name": "python3"
  },
  "language_info": {
   "codemirror_mode": {
    "name": "ipython",
    "version": 3
   },
   "file_extension": ".py",
   "mimetype": "text/x-python",
   "name": "python",
   "nbconvert_exporter": "python",
   "pygments_lexer": "ipython3",
   "version": "3.6.3"
  }
 },
 "nbformat": 4,
 "nbformat_minor": 2
}

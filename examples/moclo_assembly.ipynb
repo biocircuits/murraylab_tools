{
 "cells": [
  {
   "cell_type": "code",
   "execution_count": 1,
   "metadata": {},
   "outputs": [],
   "source": [
    "#Run this first!\n",
    "import os\n",
    "import sys\n",
    "from io import BytesIO\n",
    "import pandas as pd\n",
    "import requests\n",
    "dev = False\n",
    "#\"C:\\\\\",\"Users\",\"Andrey\",\\\n",
    "#                \"Documents\",\"GitHub\",\"murraylab_tools\"\n",
    "if(dev):\n",
    "    devpath = os.path.join(\"..\",\\\n",
    "                    \"murraylab_tools\",\"make_moclo_assembly\")\n",
    "    sys.path.append(devpath)\n",
    "    import make_moclo_assembly as mamo\n",
    "else:\n",
    "    import murraylab_tools.make_moclo_assembly as mamo\n",
    "%matplotlib inline\n",
    "andreysGoogleDoc='https://docs.google.com/spreadsheets/d/1x7f_2sfOG6KQ7FZO-TPvJlNcVupKLtD9MYq8YUs9TCI/export'\n",
    "andreydf = pd.read_excel(BytesIO(requests.get(andreysGoogleDoc).content),sheet_name=\"parts_1\")\n",
    "pcrdf = pd.read_excel(BytesIO(requests.get(andreysGoogleDoc).content),sheet_name=\"pcr\")\n",
    "mypath = os.path.join(\"moclo_assembly\")"
   ]
  },
  {
   "cell_type": "code",
   "execution_count": 2,
   "metadata": {
    "scrolled": true
   },
   "outputs": [
    {
     "data": {
      "application/vnd.jupyter.widget-view+json": {
       "model_id": "74380a594a4c4281852e491f5d795adf",
       "version_major": 2,
       "version_minor": 0
      },
      "text/plain": [
       "HBox(children=(VBox(children=(Text(value='untitled', description='Assembly File Name:', layout=Layout(height='…"
      ]
     },
     "metadata": {},
     "output_type": "display_data"
    },
    {
     "data": {
      "application/vnd.jupyter.widget-view+json": {
       "model_id": "9f0a06386d76402db04bda485885115e",
       "version_major": 2,
       "version_minor": 0
      },
      "text/plain": [
       "HBox(children=(VBox(children=(Label(value='vector1'), Dropdown(index=21, layout=Layout(height='30px', width='7…"
      ]
     },
     "metadata": {},
     "output_type": "display_data"
    },
    {
     "data": {
      "text/html": [
       "<a href='moclo_assembly\\assemblies\\test_assemblies.csv' target='_blank'>moclo_assembly\\assemblies\\test_assemblies.csv</a><br>"
      ],
      "text/plain": [
       "D:\\Documents\\GitHub\\murraylab_tools\\examples\\moclo_assembly\\assemblies\\test_assemblies.csv"
      ]
     },
     "metadata": {},
     "output_type": "display_data"
    },
    {
     "data": {
      "text/html": [
       "<div>\n",
       "<style scoped>\n",
       "    .dataframe tbody tr th:only-of-type {\n",
       "        vertical-align: middle;\n",
       "    }\n",
       "\n",
       "    .dataframe tbody tr th {\n",
       "        vertical-align: top;\n",
       "    }\n",
       "\n",
       "    .dataframe thead th {\n",
       "        text-align: right;\n",
       "    }\n",
       "</style>\n",
       "<table border=\"1\" class=\"dataframe\">\n",
       "  <thead>\n",
       "    <tr style=\"text-align: right;\">\n",
       "      <th></th>\n",
       "      <th>vector1</th>\n",
       "      <th>promoter</th>\n",
       "      <th>UTR</th>\n",
       "      <th>CDS</th>\n",
       "      <th>Terminator</th>\n",
       "      <th>newcol1</th>\n",
       "      <th>vector2</th>\n",
       "      <th>enzyme</th>\n",
       "      <th>name</th>\n",
       "      <th>targwell</th>\n",
       "    </tr>\n",
       "  </thead>\n",
       "  <tbody>\n",
       "    <tr>\n",
       "      <td>0</td>\n",
       "      <td>U5A</td>\n",
       "      <td>PlacCIDAR</td>\n",
       "      <td>ntrig3</td>\n",
       "      <td>NaN</td>\n",
       "      <td>T16m</td>\n",
       "      <td>EUX</td>\n",
       "      <td>NaN</td>\n",
       "      <td>BsaI</td>\n",
       "      <td>Lnt5-X</td>\n",
       "      <td>A1</td>\n",
       "    </tr>\n",
       "    <tr>\n",
       "      <td>1</td>\n",
       "      <td>U4A</td>\n",
       "      <td>PbadCIDAR</td>\n",
       "      <td>gqisc3</td>\n",
       "      <td>nscaff3</td>\n",
       "      <td>T15m</td>\n",
       "      <td>EU5</td>\n",
       "      <td>NaN</td>\n",
       "      <td>BsaI</td>\n",
       "      <td>Bqinscaff4-5</td>\n",
       "      <td>A2</td>\n",
       "    </tr>\n",
       "    <tr>\n",
       "      <td>2</td>\n",
       "      <td>bbLSK-X-1</td>\n",
       "      <td>S22bxT17m1-3</td>\n",
       "      <td>ptmdcast2m3-4</td>\n",
       "      <td>CT19m4-5</td>\n",
       "      <td>NT1DE5-6</td>\n",
       "      <td>Bg16-7</td>\n",
       "      <td>Cg27-X</td>\n",
       "      <td>gibson</td>\n",
       "      <td>rec25</td>\n",
       "      <td>A3</td>\n",
       "    </tr>\n",
       "    <tr>\n",
       "      <td>3</td>\n",
       "      <td>bbLSK-X-1</td>\n",
       "      <td>S22bxT17m1-3</td>\n",
       "      <td>ptmdcast2m3-4</td>\n",
       "      <td>NT19m4-5</td>\n",
       "      <td>CT1DE5-6</td>\n",
       "      <td>Bg16-7</td>\n",
       "      <td>Cg27-X</td>\n",
       "      <td>gibson</td>\n",
       "      <td>rec26</td>\n",
       "      <td>A4</td>\n",
       "    </tr>\n",
       "    <tr>\n",
       "      <td>4</td>\n",
       "      <td>Cole1HFA</td>\n",
       "      <td>PbadCIDAR</td>\n",
       "      <td>gqisc3</td>\n",
       "      <td>nscaff3</td>\n",
       "      <td>T15m</td>\n",
       "      <td>KanEF</td>\n",
       "      <td>NaN</td>\n",
       "      <td>BsaI</td>\n",
       "      <td>circulartest</td>\n",
       "      <td>A5</td>\n",
       "    </tr>\n",
       "  </tbody>\n",
       "</table>\n",
       "</div>"
      ],
      "text/plain": [
       "     vector1      promoter            UTR       CDS Terminator newcol1  \\\n",
       "0        U5A     PlacCIDAR         ntrig3       NaN       T16m     EUX   \n",
       "1        U4A     PbadCIDAR         gqisc3   nscaff3       T15m     EU5   \n",
       "2  bbLSK-X-1  S22bxT17m1-3  ptmdcast2m3-4  CT19m4-5   NT1DE5-6  Bg16-7   \n",
       "3  bbLSK-X-1  S22bxT17m1-3  ptmdcast2m3-4  NT19m4-5   CT1DE5-6  Bg16-7   \n",
       "4   Cole1HFA     PbadCIDAR         gqisc3   nscaff3       T15m   KanEF   \n",
       "\n",
       "  vector2  enzyme          name targwell  \n",
       "0     NaN    BsaI        Lnt5-X       A1  \n",
       "1     NaN    BsaI  Bqinscaff4-5       A2  \n",
       "2  Cg27-X  gibson         rec25       A3  \n",
       "3  Cg27-X  gibson         rec26       A4  \n",
       "4     NaN    BsaI  circulartest       A5  "
      ]
     },
     "metadata": {},
     "output_type": "display_data"
    }
   ],
   "source": [
    "#This cell is for creating your assembly!\n",
    "#here you can put together the parts located in your source plate.\n",
    "#interface elements:\n",
    "#Assembly...[]: the name of all the assemblies you're doing!\n",
    "#parts list[]: the name of the parts list to use! This picks from which lists\n",
    "#             exist in the \"partslist\" folder on the server.\n",
    "#[Start]: this begins the assembly, locking in the parts list file we're using\n",
    "#[]list all parts: if checked, all parts will be shown in all columns, as long\n",
    "#                 as the assembly is valid!\n",
    "#Dest Well[]: this indicates the first well in the destination plate to use.\n",
    "#            subsequent assemblies are filled in left to right, top to bottom.\n",
    "#[Save!]: this saves the assembly, and creates a csv file on the server which\n",
    "#         can be used for making echo picklists\n",
    "#\n",
    "#\n",
    "#[vector1]...[vector2]: these drop downs will list compatible parts from the\n",
    "#                       parts list\n",
    "#[enzyme]: this tells the picklist generation script how to assemble the parts\n",
    "#         to make assembled sequences. Also it tells the UI whether UNS parts\n",
    "#         should assemble together.\n",
    "#[name]: a unique name! This is mostly for you, but make sure each assembly has\n",
    "#       one!\n",
    "#[+]: this copies the row and adds it to the bottom.\n",
    "#[-]: one press clears all the parts, another press deletes the row entirely\n",
    "\n",
    "mamo.make_assembly_file(mypath,andreydf)"
   ]
  },
  {
   "cell_type": "code",
   "execution_count": 3,
   "metadata": {
    "scrolled": true
   },
   "outputs": [
    {
     "data": {
      "application/vnd.jupyter.widget-view+json": {
       "model_id": "7a22d324e55443759dcbecff29ec2ec5",
       "version_major": 2,
       "version_minor": 0
      },
      "text/plain": [
       "HBox(children=(Dropdown(description='Assembly:', options={'test_assemblies': 'moclo_assembly\\\\assemblies\\\\test…"
      ]
     },
     "metadata": {},
     "output_type": "display_data"
    },
    {
     "data": {
      "application/vnd.jupyter.widget-view+json": {
       "model_id": "ea9b9a1cd4084726af08d50c9927d39c",
       "version_major": 2,
       "version_minor": 0
      },
      "text/plain": [
       "FloatProgress(value=0.0, max=1.0)"
      ]
     },
     "metadata": {},
     "output_type": "display_data"
    },
    {
     "data": {
      "image/png": "[encoded data removed]",
      "text/plain": [
       "<Figure size 576x72 with 1 Axes>"
      ]
     },
     "metadata": {},
     "output_type": "display_data"
    },
    {
     "data": {
      "text/html": [
       "<font face=monospace><a href='moclo_assembly\\DNA\\test_assemblies\\Lnt5-X.gbk' target='_blank'>moclo_assembly\\DNA\\test_assemblies\\Lnt5-X.gbk</a></font><br>"
      ]
     },
     "metadata": {},
     "output_type": "display_data"
    },
    {
     "data": {
      "image/png": "[encoded data removed]",
      "text/plain": [
       "<Figure size 576x72 with 1 Axes>"
      ]
     },
     "metadata": {},
     "output_type": "display_data"
    },
    {
     "data": {
      "text/html": [
       "<font face=monospace><a href='moclo_assembly\\DNA\\test_assemblies\\Bqinscaff4-5.gbk' target='_blank'>moclo_assembly\\DNA\\test_assemblies\\Bqinscaff4-5.gbk</a></font><br>"
      ]
     },
     "metadata": {},
     "output_type": "display_data"
    },
    {
     "data": {
      "image/png": "[encoded data removed]",
      "text/plain": [
       "<Figure size 576x72 with 1 Axes>"
      ]
     },
     "metadata": {},
     "output_type": "display_data"
    },
    {
     "data": {
      "text/html": [
       "<font face=monospace><a href='moclo_assembly\\DNA\\test_assemblies\\rec25.gbk' target='_blank'>moclo_assembly\\DNA\\test_assemblies\\rec25.gbk</a></font><br>"
      ]
     },
     "metadata": {},
     "output_type": "display_data"
    },
    {
     "data": {
      "image/png": "[encoded data removed]",
      "text/plain": [
       "<Figure size 576x72 with 1 Axes>"
      ]
     },
     "metadata": {},
     "output_type": "display_data"
    },
    {
     "data": {
      "text/html": [
       "<font face=monospace><a href='moclo_assembly\\DNA\\test_assemblies\\rec26.gbk' target='_blank'>moclo_assembly\\DNA\\test_assemblies\\rec26.gbk</a></font><br>"
      ]
     },
     "metadata": {},
     "output_type": "display_data"
    },
    {
     "data": {
      "image/png": "[encoded data removed]",
      "text/plain": [
       "<Figure size 576x72 with 1 Axes>"
      ]
     },
     "metadata": {},
     "output_type": "display_data"
    },
    {
     "data": {
      "text/html": [
       "<font face=monospace><a href='moclo_assembly\\DNA\\test_assemblies\\circulartest.gbk' target='_blank'>moclo_assembly\\DNA\\test_assemblies\\circulartest.gbk</a></font><br>"
      ]
     },
     "metadata": {},
     "output_type": "display_data"
    },
    {
     "data": {
      "text/html": [
       "<div>\n",
       "<style scoped>\n",
       "    .dataframe tbody tr th:only-of-type {\n",
       "        vertical-align: middle;\n",
       "    }\n",
       "\n",
       "    .dataframe tbody tr th {\n",
       "        vertical-align: top;\n",
       "    }\n",
       "\n",
       "    .dataframe thead th {\n",
       "        text-align: right;\n",
       "    }\n",
       "</style>\n",
       "<table border=\"1\" class=\"dataframe\">\n",
       "  <thead>\n",
       "    <tr style=\"text-align: right;\">\n",
       "      <th></th>\n",
       "      <th>well</th>\n",
       "      <th>part</th>\n",
       "      <th>circular</th>\n",
       "      <th>length</th>\n",
       "    </tr>\n",
       "  </thead>\n",
       "  <tbody>\n",
       "    <tr>\n",
       "      <td>0</td>\n",
       "      <td>A1</td>\n",
       "      <td>Lnt5-X</td>\n",
       "      <td>False</td>\n",
       "      <td>438</td>\n",
       "    </tr>\n",
       "    <tr>\n",
       "      <td>1</td>\n",
       "      <td>A2</td>\n",
       "      <td>Bqinscaff4-5</td>\n",
       "      <td>False</td>\n",
       "      <td>447</td>\n",
       "    </tr>\n",
       "    <tr>\n",
       "      <td>2</td>\n",
       "      <td>A3</td>\n",
       "      <td>rec25</td>\n",
       "      <td>True</td>\n",
       "      <td>11835</td>\n",
       "    </tr>\n",
       "    <tr>\n",
       "      <td>3</td>\n",
       "      <td>A4</td>\n",
       "      <td>rec26</td>\n",
       "      <td>True</td>\n",
       "      <td>11835</td>\n",
       "    </tr>\n",
       "    <tr>\n",
       "      <td>4</td>\n",
       "      <td>A5</td>\n",
       "      <td>circulartest</td>\n",
       "      <td>True</td>\n",
       "      <td>2089</td>\n",
       "    </tr>\n",
       "  </tbody>\n",
       "</table>\n",
       "</div>"
      ],
      "text/plain": [
       "  well          part  circular  length\n",
       "0   A1        Lnt5-X     False     438\n",
       "1   A2  Bqinscaff4-5     False     447\n",
       "2   A3         rec25      True   11835\n",
       "3   A4         rec26      True   11835\n",
       "4   A5  circulartest      True    2089"
      ]
     },
     "metadata": {},
     "output_type": "display_data"
    },
    {
     "data": {
      "text/html": [
       "<a href='moclo_assembly\\DNA\\test_assemblies\\test_assemblies.csv' target='_blank'>moclo_assembly\\DNA\\test_assemblies\\test_assemblies.csv</a><br>"
      ],
      "text/plain": [
       "D:\\Documents\\GitHub\\murraylab_tools\\examples\\moclo_assembly\\DNA\\test_assemblies\\test_assemblies.csv"
      ]
     },
     "metadata": {},
     "output_type": "display_data"
    },
    {
     "data": {
      "text/html": [
       "<a href='moclo_assembly\\output\\output.csv' target='_blank'>moclo_assembly\\output\\output.csv</a><br>"
      ],
      "text/plain": [
       "D:\\Documents\\GitHub\\murraylab_tools\\examples\\moclo_assembly\\output\\output.csv"
      ]
     },
     "metadata": {},
     "output_type": "display_data"
    },
    {
     "data": {
      "text/html": [
       "<a href='moclo_assembly\\output\\outputLDV.csv' target='_blank'>moclo_assembly\\output\\outputLDV.csv</a><br>"
      ],
      "text/plain": [
       "D:\\Documents\\GitHub\\murraylab_tools\\examples\\moclo_assembly\\output\\outputLDV.csv"
      ]
     },
     "metadata": {},
     "output_type": "display_data"
    }
   ],
   "source": [
    "#run this cell to make an echo picklist!\n",
    "#you'll get a chance to pick which set of assemblies you want to do, and of\n",
    "#course the parts list to use.\n",
    "featuresGoogleDoc='https://docs.google.com/spreadsheets/d/1Kwy3gXb0uuTFQyboBUsc0bdfIZX4zUp_-8igKqSKTKI/export?format=csv'\n",
    "featuresdf= pd.read_csv(BytesIO(requests.get(featuresGoogleDoc).content))\n",
    "andreysGoogleDoc='https://docs.google.com/spreadsheets/d/1x7f_2sfOG6KQ7FZO-TPvJlNcVupKLtD9MYq8YUs9TCI/export'\n",
    "andreydf = pd.read_excel(BytesIO(requests.get(andreysGoogleDoc).content),sheet_name=\"parts_1\")\n",
    "mamo.process_assembly_file(mypath,printstuff=False,partsdf=andreydf,annotateDF=featuresdf)"
   ]
  },
  {
   "cell_type": "code",
   "execution_count": null,
   "metadata": {},
   "outputs": [],
   "source": []
  }
 ],
 "metadata": {
  "kernelspec": {
   "display_name": "Python 3",
   "language": "python",
   "name": "python3"
  },
  "language_info": {
   "codemirror_mode": {
    "name": "ipython",
    "version": 3
   },
   "file_extension": ".py",
   "mimetype": "text/x-python",
   "name": "python",
   "nbconvert_exporter": "python",
   "pygments_lexer": "ipython3",
   "version": "3.7.4"
  }
 },
 "nbformat": 4,
 "nbformat_minor": 2
}

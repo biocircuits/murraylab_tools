{
 "cells": [
  {
   "cell_type": "code",
   "execution_count": null,
   "metadata": {},
   "outputs": [],
   "source": [
    "#Run this first!\n",
    "import os\n",
    "import sys\n",
    "\n",
    "dev = True\n",
    "#\"C:\\\\\",\"Users\",\"Andrey\",\\\n",
    "#                \"Documents\",\"GitHub\",\"murraylab_tools\"\n",
    "if(dev):\n",
    "    devpath = os.path.join(\"..\",\\\n",
    "                    \"murraylab_tools\",\"make_moclo_assembly\")\n",
    "    sys.path.append(devpath)\n",
    "    import make_moclo_assembly as mamo\n",
    "else:\n",
    "    import murraylab_tools.make_moclo_assembly as mamo\n",
    "%matplotlib inline\n",
    "mypath = os.path.join(\"moclo_assembly\")"
   ]
  },
  {
   "cell_type": "code",
   "execution_count": 4,
   "metadata": {},
   "outputs": [
    {
     "data": {
      "text/html": [
       "<div>\n",
       "<style scoped>\n",
       "    .dataframe tbody tr th:only-of-type {\n",
       "        vertical-align: middle;\n",
       "    }\n",
       "\n",
       "    .dataframe tbody tr th {\n",
       "        vertical-align: top;\n",
       "    }\n",
       "\n",
       "    .dataframe thead th {\n",
       "        text-align: right;\n",
       "    }\n",
       "</style>\n",
       "<table border=\"1\" class=\"dataframe\">\n",
       "  <thead>\n",
       "    <tr style=\"text-align: right;\">\n",
       "      <th></th>\n",
       "      <th>part</th>\n",
       "      <th>description</th>\n",
       "      <th>type</th>\n",
       "      <th>left</th>\n",
       "      <th>right</th>\n",
       "      <th>conc (nM)</th>\n",
       "      <th>date</th>\n",
       "      <th>numvalue</th>\n",
       "      <th>sequence</th>\n",
       "      <th>circular</th>\n",
       "      <th>5pend</th>\n",
       "      <th>3pend</th>\n",
       "      <th>length</th>\n",
       "      <th>platebc</th>\n",
       "      <th>platetype</th>\n",
       "    </tr>\n",
       "    <tr>\n",
       "      <th>well</th>\n",
       "      <th></th>\n",
       "      <th></th>\n",
       "      <th></th>\n",
       "      <th></th>\n",
       "      <th></th>\n",
       "      <th></th>\n",
       "      <th></th>\n",
       "      <th></th>\n",
       "      <th></th>\n",
       "      <th></th>\n",
       "      <th></th>\n",
       "      <th></th>\n",
       "      <th></th>\n",
       "      <th></th>\n",
       "      <th></th>\n",
       "    </tr>\n",
       "  </thead>\n",
       "  <tbody>\n",
       "    <tr>\n",
       "      <th>L23</th>\n",
       "      <td>Og6attP</td>\n",
       "      <td>guide RNA next to attP</td>\n",
       "      <td>special</td>\n",
       "      <td>A</td>\n",
       "      <td>B</td>\n",
       "      <td>40.0</td>\n",
       "      <td>5/9/2019</td>\n",
       "      <td>NaN</td>\n",
       "      <td>GGGTCTCAGGAGCCTTTTGCGCGAAAGGTTTGTCTGGTCAACCACC...</td>\n",
       "      <td>False</td>\n",
       "      <td>0.0</td>\n",
       "      <td>0.0</td>\n",
       "      <td>87.0</td>\n",
       "      <td>ASSGGA04</td>\n",
       "      <td>384PP_AQ_BP</td>\n",
       "    </tr>\n",
       "  </tbody>\n",
       "</table>\n",
       "</div>"
      ],
      "text/plain": [
       "         part             description     type left right  conc (nM)  \\\n",
       "well                                                                   \n",
       "L23   Og6attP  guide RNA next to attP  special    A     B       40.0   \n",
       "\n",
       "          date  numvalue                                           sequence  \\\n",
       "well                                                                          \n",
       "L23   5/9/2019       NaN  GGGTCTCAGGAGCCTTTTGCGCGAAAGGTTTGTCTGGTCAACCACC...   \n",
       "\n",
       "     circular  5pend  3pend  length   platebc    platetype  \n",
       "well                                                        \n",
       "L23     False    0.0    0.0    87.0  ASSGGA04  384PP_AQ_BP  "
      ]
     },
     "execution_count": 4,
     "metadata": {},
     "output_type": "execute_result"
    }
   ],
   "source": [
    "from io import BytesIO\n",
    "import pandas as pd\n",
    "import requests\n",
    "ercc = pd.read_csv(BytesIO(requests.get('https://docs.google.com/spreadsheets/d/1x7f_2sfOG6KQ7FZO-TPvJlNcVupKLtD9MYq8YUs9TCI/export?format=csv').content), index_col=0)\n",
    "ercc[ercc.part==\"Og6attP\"]\n",
    "\n",
    "#https://stackoverflow.com/questions/19611729/getting-google-spreadsheet-csv-into-a-pandas-dataframe"
   ]
  },
  {
   "cell_type": "code",
   "execution_count": null,
   "metadata": {},
   "outputs": [],
   "source": [
    "#This cell is for creating your assembly!\n",
    "#here you can put together the parts located in your source plate.\n",
    "#interface elements:\n",
    "#Assembly...[]: the name of all the assemblies you're doing!\n",
    "#parts list[]: the name of the parts list to use! This picks from which lists\n",
    "#             exist in the \"partslist\" folder on the server.\n",
    "#[Start]: this begins the assembly, locking in the parts list file we're using\n",
    "#[]list all parts: if checked, all parts will be shown in all columns, as long\n",
    "#                 as the assembly is valid!\n",
    "#Dest Well[]: this indicates the first well in the destination plate to use.\n",
    "#            subsequent assemblies are filled in left to right, top to bottom.\n",
    "#[Save!]: this saves the assembly, and creates a csv file on the server which\n",
    "#         can be used for making echo picklists\n",
    "#\n",
    "#\n",
    "#[vector1]...[vector2]: these drop downs will list compatible parts from the\n",
    "#                       parts list\n",
    "#[enzyme]: this tells the picklist generation script how to assemble the parts\n",
    "#         to make assembled sequences. Also it tells the UI whether UNS parts\n",
    "#         should assemble together.\n",
    "#[name]: a unique name! This is mostly for you, but make sure each assembly has\n",
    "#       one!\n",
    "#[+]: this copies the row and adds it to the bottom.\n",
    "#[-]: one press clears all the parts, another press deletes the row entirely\n",
    "mamo.make_assembly_file(mypath)"
   ]
  },
  {
   "cell_type": "code",
   "execution_count": null,
   "metadata": {
    "scrolled": true
   },
   "outputs": [],
   "source": [
    "#run this cell to make an echo picklist!\n",
    "#you'll get a chance to pick which set of assemblies you want to do, and of\n",
    "#course the parts list to use.\n",
    "mamo.process_assembly_file(mypath,printstuff=False)"
   ]
  },
  {
   "cell_type": "code",
   "execution_count": null,
   "metadata": {
    "collapsed": true
   },
   "outputs": [],
   "source": []
  }
 ],
 "metadata": {
  "kernelspec": {
   "display_name": "Python 3",
   "language": "python",
   "name": "python3"
  },
  "language_info": {
   "codemirror_mode": {
    "name": "ipython",
    "version": 3
   },
   "file_extension": ".py",
   "mimetype": "text/x-python",
   "name": "python",
   "nbconvert_exporter": "python",
   "pygments_lexer": "ipython3",
   "version": "3.6.3"
  }
 },
 "nbformat": 4,
 "nbformat_minor": 2
}

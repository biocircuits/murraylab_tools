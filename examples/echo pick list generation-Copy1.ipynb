{
 "cells": [
  {
   "cell_type": "code",
   "execution_count": 7,
   "metadata": {
    "collapsed": false
   },
   "outputs": [
    {
     "name": "stdout",
     "output_type": "stream",
     "text": [
      "GFP 0.11122736842105264\n",
      "Txtl fraction 0.6912273684210527 Extract Fraction: 0.33 Buffer fraction: 0.25 DNA_fraction 0.11122736842105264\n",
      "fraction GFP to put in MM =  0.16091285371863323 * Total MM volume =  57.28497592383343\n",
      "fraction of AA to put in MM =  0.180837747043398 * Total MM volume =  64.37823794744969\n",
      "fraction of Energy to put in MM =  0.10850264822603879 * Total MM volume =  38.62694276846981\n",
      "fraction of peg to put in MM =  0.07233509881735921 * Total MM volume =  25.751295178979877\n",
      "GFP Stock Conc: 8.990593000586754 nM = 19 ng/uL\n",
      "Total GFP 57.28497592383343\n",
      "Total Energy MM 128.75647589489938\n",
      "Total GFP+Energy MM 186.0414518187328\n"
     ]
    }
   ],
   "source": [
    "import murraylab_tools.echo as mt_echo\n",
    "import os.path\n",
    "\n",
    "# Set up master Mix\n",
    "rxn_vol = 5000 #Volume of the reaction in nL\n",
    "\n",
    "conc_Mg = 100 #Stock Conc\n",
    "#Mg-glut concentrations (mM)\n",
    "mg_concs = [3, 5, 7, 9, 11]\n",
    "\n",
    "conc_K = 3000 #Stock Conc\n",
    "#K-glut concentrations (mM)\n",
    "k_concs = [60, 80, 100, 120, 140]\n",
    "\n",
    "extract_fraction = .33 #Fraction of Well Volume that is EXTRACT\n",
    "aa_fraction = .125\n",
    "energy_fraction = .075\n",
    "peg_fraction = .05\n",
    "\n",
    "GFP_conc_final = 1.0 #nM\n",
    "\n",
    "GFP_stock_ng = 19 #ng/uL\n",
    "GFP_length = 3202\n",
    "GFP_stock = GFP_stock_ng / (660*GFP_length)*10**6\n",
    "GFP_v_per_rxn = GFP_conc_final*rxn_vol/GFP_stock\n",
    "GFP_frac = GFP_v_per_rxn/rxn_vol\n",
    "\n",
    "print(\"GFP\", GFP_frac)\n",
    "\n",
    "\n",
    "plate_file = \"Combinatoric_Energy_Source_Plate1.dat\"\n",
    "source_plate = mt_echo.SourcePlate(filename = plate_file)\n",
    "\n",
    "\n",
    "#Fraction of stuff in the energy buffer\n",
    "buffer_fraction = aa_fraction+energy_fraction+peg_fraction\n",
    "DNA_frac = GFP_frac\n",
    "txtl_fraction = buffer_fraction+extract_fraction+DNA_frac #fraction of well volume that is EXTRACT+BUFFER+DNA\n",
    "\n",
    "tot_MM_vol = (78+100)*2\n",
    "\n",
    "tot_GFP = tot_MM_vol *GFP_frac / txtl_fraction\n",
    "tot_AA = tot_MM_vol*aa_fraction / txtl_fraction\n",
    "tot_Energy = tot_MM_vol * energy_fraction / txtl_fraction\n",
    "tot_PEG = tot_MM_vol * peg_fraction / txtl_fraction\n",
    "\n",
    "print(\"Txtl fraction\", txtl_fraction, \"Extract Fraction:\", extract_fraction, \"Buffer fraction:\", buffer_fraction, \"DNA_fraction\", DNA_frac)\n",
    "\n",
    "print(\"fraction GFP to put in MM = \", GFP_frac / txtl_fraction, \"* Total MM volume = \", tot_GFP)\n",
    "print(\"fraction of AA to put in MM = \", aa_fraction / txtl_fraction, \"* Total MM volume = \", tot_AA)\n",
    "print(\"fraction of Energy to put in MM = \", energy_fraction / txtl_fraction, \"* Total MM volume = \", tot_Energy)\n",
    "print(\"fraction of peg to put in MM = \", peg_fraction / txtl_fraction, \"* Total MM volume = \", tot_PEG)\n",
    "print(\"GFP Stock Conc:\", GFP_stock, \"nM =\", GFP_stock_ng, \"ng/uL\")\n",
    "\n",
    "print(\"Total GFP\", tot_GFP)\n",
    "print(\"Total Energy MM\", tot_AA+tot_Energy+tot_PEG)\n",
    "print(\"Total GFP+Energy MM\", tot_AA+tot_Energy+tot_PEG+tot_GFP)\n"
   ]
  },
  {
   "cell_type": "code",
   "execution_count": 2,
   "metadata": {
    "collapsed": true
   },
   "outputs": [],
   "source": [
    "#French Press Master Mix\n",
    "starting_well_fp = \"A1\"\n",
    "mm_fp = mt_echo.MasterMix(source_plate, txtl_fraction = txtl_fraction, extract_fraction = extract_fraction, rxn_vol = rxn_vol)\n",
    "\n",
    "txtl_echo_calculator = mt_echo.EchoRun(plate = source_plate, master_mix = mm_fp, rxn_vol = rxn_vol)\n",
    "\n",
    "MgGlut = mt_echo.EchoSourceMaterial('Mg-Glut', conc_Mg, 0, source_plate)\n",
    "KGlut = mt_echo.EchoSourceMaterial('K-Glut', conc_K, 0, source_plate)\n",
    "\n",
    "txtl_echo_calculator.build_dilution_series(MgGlut, KGlut, mg_concs, k_concs, starting_well_fp)\n",
    "\n",
    "txtl_echo_calculator.write_picklist(\"salt_panel_french_press\")"
   ]
  },
  {
   "cell_type": "code",
   "execution_count": 3,
   "metadata": {
    "collapsed": true
   },
   "outputs": [],
   "source": [
    "#Sonicated Master Mix\n",
    "starting_well_s = \"A7\"\n",
    "\n",
    "mm_s = mt_echo.MasterMix(source_plate, txtl_fraction = txtl_fraction, extract_fraction = extract_fraction, rxn_vol = rxn_vol)\n",
    "\n",
    "txtl_echo_calculator = mt_echo.EchoRun(plate = source_plate, master_mix = mm_s, rxn_vol = rxn_vol)\n",
    "\n",
    "MgGlut = mt_echo.EchoSourceMaterial('Mg-Glut', conc_Mg, 0, source_plate)\n",
    "KGlut = mt_echo.EchoSourceMaterial('K-Glut', conc_K, 0, source_plate)\n",
    "\n",
    "txtl_echo_calculator.build_dilution_series(MgGlut, KGlut, mg_concs, k_concs, starting_well_s)\n",
    "\n",
    "txtl_echo_calculator.write_picklist(\"salt_panel_sonicated\")"
   ]
  },
  {
   "cell_type": "code",
   "execution_count": null,
   "metadata": {
    "collapsed": true
   },
   "outputs": [],
   "source": []
  },
  {
   "cell_type": "code",
   "execution_count": null,
   "metadata": {
    "collapsed": true
   },
   "outputs": [],
   "source": []
  },
  {
   "cell_type": "code",
   "execution_count": null,
   "metadata": {
    "collapsed": true
   },
   "outputs": [],
   "source": []
  },
  {
   "cell_type": "code",
   "execution_count": null,
   "metadata": {
    "collapsed": true
   },
   "outputs": [],
   "source": []
  }
 ],
 "metadata": {
  "kernelspec": {
   "display_name": "Python 3",
   "language": "python",
   "name": "python3"
  },
  "language_info": {
   "codemirror_mode": {
    "name": "ipython",
    "version": 3
   },
   "file_extension": ".py",
   "mimetype": "text/x-python",
   "name": "python",
   "nbconvert_exporter": "python",
   "pygments_lexer": "ipython3",
   "version": "3.6.8"
  }
 },
 "nbformat": 4,
 "nbformat_minor": 2
}

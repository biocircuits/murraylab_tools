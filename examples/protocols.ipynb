{
 "cells": [
  {
   "cell_type": "code",
   "execution_count": 1,
   "metadata": {},
   "outputs": [
    {
     "data": {
      "application/vnd.jupyter.widget-view+json": {
       "model_id": "b424f28180214934b1790a2d3ac6ef14",
       "version_major": 2,
       "version_minor": 0
      },
      "text/plain": [
       "HBox(children=(Label(value='00:00:00'), Button(button_style='info', description='Start', layout=Layout(height=…"
      ]
     },
     "metadata": {},
     "output_type": "display_data"
    }
   ],
   "source": [
    "import os\n",
    "import sys\n",
    "mypath = os.path.join(\".\",\"protocol\")\n",
    "sys.path.append(\"C:\\\\Users\\\\Andrey\\\\Documents\\\\GitHub\\\\murraylab_tools\\\\murraylab_tools\\\\protocol\") \n",
    "import protocol as prt\n",
    "\n",
    "#protocol following notebook! \n",
    "#first test: timer\n",
    "#timer = prt.Timer()\n",
    "prt.display_timer()"
   ]
  },
  {
   "cell_type": "code",
   "execution_count": 1,
   "metadata": {},
   "outputs": [
    {
     "name": "stdout",
     "output_type": "stream",
     "text": [
      "ooga\n"
     ]
    }
   ],
   "source": [
    "print(\"ooga\")"
   ]
  },
  {
   "cell_type": "code",
   "execution_count": null,
   "metadata": {},
   "outputs": [],
   "source": []
  }
 ],
 "metadata": {
  "kernelspec": {
   "display_name": "Python 3",
   "language": "python",
   "name": "python3"
  },
  "language_info": {
   "codemirror_mode": {
    "name": "ipython",
    "version": 3
   },
   "file_extension": ".py",
   "mimetype": "text/x-python",
   "name": "python",
   "nbconvert_exporter": "python",
   "pygments_lexer": "ipython3",
   "version": "3.6.3"
  }
 },
 "nbformat": 4,
 "nbformat_minor": 2
}
